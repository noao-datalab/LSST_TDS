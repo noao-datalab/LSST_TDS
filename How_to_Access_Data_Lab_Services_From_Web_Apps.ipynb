{
 "cells": [
  {
   "cell_type": "markdown",
   "metadata": {
    "deletable": true,
    "editable": true
   },
   "source": [
    "## How to use Data Lab Services From Web Apps\n",
    "\n",
    "*Revised:  May 17, 2017*\n",
    "\n",
    "This notebook documents how to call the various Data Lab services (e.g. AuthManager, QueryManager, etc) from Web applications by directly accessing the service URL.  It will explain which arguments are required, when an authorization token is required, the return value of the service (and how it might change depending on the arguments or auth token) and how errors may be trapped.  Unless otherwise noted, all specified arguments are required for each service.\n",
    "\n",
    "All Data Lab services are implemented as a RESTful web service and may be accessed using HTTP GET or POST protocols.  The service endpoints may be accessed from a variety of languages and tools.  The intent of this notebook is to describe the endpoint URL and behavior of the service more than how to access that service from any particular framework.\n"
   ]
  },
  {
   "cell_type": "code",
   "execution_count": 221,
   "metadata": {
    "collapsed": false,
    "deletable": true,
    "editable": true
   },
   "outputs": [],
   "source": [
    "# Standard notebook imports\n",
    "from __future__ import print_function\n",
    "from urllib2 import Request, urlopen, URLError, HTTPError\n",
    "import urllib\n",
    "import os, sys\n",
    "\n",
    "# Define the base service URLs\n",
    "AUTH    = \"http://dldev.datalab.noao.edu/auth\"           # Auth Manager\n",
    "QUERY   = \"http://dldev.datalab.noao.edu/query\"         # Query Manager\n",
    "STORAGE = \"http://dldev.datalab.noao.edu/storage\"       # Storage Manager\n",
    "RES     = \"http://dldev.datalab.noao.edu/res\"           # Resource Manager\n",
    "\n",
    "def HTTP_CALL (mode, url, args, headers=None):\n",
    "    \"\"\"  Demo code to call an return a service URL.\n",
    "    \"\"\"\n",
    "    data = (urllib.urlencode(args) if args is not None else \"\")\n",
    "    try:\n",
    "        if mode == \"GET\":\n",
    "            svc_url = ((url + data) if args is not None else url)\n",
    "            req = urllib2.Request(svc_url, headers=headers)\n",
    "        else:\n",
    "            req = urllib2.Request(url, data, headers=headers)\n",
    "        response = urllib2.urlopen(req)\n",
    "    except HTTPError as e:\n",
    "        print ('Error code: %d: %s' % (e.code, e.reason))\n",
    "    except URLError as e:\n",
    "        print ('We failed to reach a server.\\nReason: %s' % e.reason)\n",
    "    else:\n",
    "        if mode == 'GET':\n",
    "            print ('GET:  %s\\n\\nRESPONSE:\\n%s\\n%s' % (response.geturl(), response.info(), response.read()))\n",
    "        else:\n",
    "            print ('POST:  %s\\n\\t%s\\n\\nRESPONSE\\n%s\\n%s' % (response.geturl(), req.get_data(), response.info(), response.read()))"
   ]
  },
  {
   "cell_type": "markdown",
   "metadata": {
    "deletable": true,
    "editable": true
   },
   "source": [
    "---\n",
    "\n",
    "## <u>Auth Manager Services</u>"
   ]
  },
  {
   "cell_type": "markdown",
   "metadata": {
    "deletable": true,
    "editable": true
   },
   "source": [
    "### authClient.login (user, password=None, debug=False, verbose=False)\n",
    "\n",
    "<b>Description:</b>  The *login()* method is used to obtain an authorization token from the Data Lab to access a specific user's resources (virtual storage, compute processing, etc).  That token must be passed to other methods as needed.\n",
    "\n",
    "<b>Returns:</b>\n",
    "    - On success, a valid user authorization token\n",
    "    - On error, the error message explaining the failure\n",
    "    - A HTML header element in the response to set a cookie containing the auth token"
   ]
  },
  {
   "cell_type": "code",
   "execution_count": null,
   "metadata": {
    "collapsed": false,
    "deletable": true,
    "editable": true
   },
   "outputs": [],
   "source": [
    "# Example 0:  A valid user login\n",
    "args = []\n",
    "args.append( {\"username\" : \"demo00\",      # account name     (required)\n",
    "              \"password\" : \"balatad\",     # account password (required)\n",
    "              \"profile\" : \"default\",      # service profile  (optional)\n",
    "              \"verbose\" : False}          # verbose output   (optional, not used)\n",
    "           )\n",
    "\n",
    "# Example 1: Anonymous user login\n",
    "args.append ( {\"username\" : \"anonymous\"} )\n",
    "\n",
    "# Example 2: Invalid username error\n",
    "args.append ( {\"username\" : \"Barney\",\n",
    "               \"password\" : \"Rubble\"}\n",
    "            )\n",
    "\n",
    "# Example 3: Invalid password error\n",
    "args.append ( {\"username\" : \"demo00\",\n",
    "               \"password\" : \"xyzzy\"}\n",
    "            )\n",
    "\n",
    "headers = {}                        # No token needed\n",
    "\n",
    "example = 0                         # Example number to run\n",
    "HTTP_CALL (\"GET\", AUTH + \"/login?\", args[example], headers=headers)"
   ]
  },
  {
   "cell_type": "markdown",
   "metadata": {
    "deletable": true,
    "editable": true
   },
   "source": [
    "### authClient.isAlive (svc_url=DEF_SERVICE_URL)\n",
    "\n",
    "<b>Description:</b>  The *isAlive()* method is used to determine whether the AuthManager service is online and responding.  This is essentially a call to the base Auth Manager service URL.\n",
    "\n",
    "<b>Returns:</b>\n",
    "    - On success, a 'Hello World' message from the Auth Manager\n",
    "    - On error, the HTTP error code"
   ]
  },
  {
   "cell_type": "code",
   "execution_count": null,
   "metadata": {
    "collapsed": false,
    "deletable": true,
    "editable": true
   },
   "outputs": [],
   "source": [
    "# Example 0:  A valid service, no arguments are required\n",
    "args = []\n",
    "args.append(\"\")\n",
    "           \n",
    "# Example 1: An invalid URL\n",
    "args.append ( {\"svc_url\" : \"http://foo.far.com/auth\"} )\n",
    "\n",
    "headers = {}                        # No token needed\n",
    "\n",
    "example = 0                         # Example number to run\n",
    "HTTP_CALL (\"GET\", AUTH, args[example], headers=headers)"
   ]
  },
  {
   "cell_type": "markdown",
   "metadata": {
    "deletable": true,
    "editable": true
   },
   "source": [
    "### authClient.isValidToken (token)\n",
    "\n",
    "<b>Description:</b>  The isValidToken() method is used to determine whether the given token represents a valid user currently logged into the Data Lab system.\n",
    "\n",
    "<b>Returns:</b>\n",
    "    - a 'True' or 'False' string depending on token validity"
   ]
  },
  {
   "cell_type": "code",
   "execution_count": null,
   "metadata": {
    "collapsed": false,
    "deletable": true,
    "editable": true
   },
   "outputs": [],
   "source": [
    "# Example 0: A valid anonymous user token\n",
    "args = []\n",
    "args.append ( {\"token\" : \"anonymous.0.0.anon_access\"} )\n",
    "\n",
    "# Example 1:  An invalid user token\n",
    "args.append ( {\"token\" : \"foo.0.0.bar\"} )\n",
    "\n",
    "headers = {}                        # No token needed\n",
    "\n",
    "example = 0\n",
    "HTTP_CALL (\"GET\", AUTH + \"/isValidToken?\", args[example], headers=headers)"
   ]
  },
  {
   "cell_type": "markdown",
   "metadata": {
    "deletable": true,
    "editable": true
   },
   "source": [
    "### authClient.isValidUser (user)\n",
    "\n",
    "<b>Description:</b>  The *isValidUser()* method is used to determine whether the specified username is valid in the system.\n",
    "\n",
    "<b>Returns:</b>\n",
    "    - a 'True' or 'False' string depending on username validity"
   ]
  },
  {
   "cell_type": "code",
   "execution_count": null,
   "metadata": {
    "collapsed": false,
    "deletable": true,
    "editable": true
   },
   "outputs": [],
   "source": [
    "# Example 0: A valid anonymous user \n",
    "args = []\n",
    "args.append ( {\"user\" : \"anonymous\"} )\n",
    "\n",
    "# Example 1:  An invalid user token\n",
    "args.append ( {\"user\" : \"foobar\"} )\n",
    "\n",
    "headers = {}                        # No token needed\n",
    "\n",
    "example = 0\n",
    "HTTP_CALL (\"GET\", AUTH + \"/isValidUser?\", args[example], headers=headers)"
   ]
  },
  {
   "cell_type": "markdown",
   "metadata": {
    "deletable": true,
    "editable": true
   },
   "source": [
    "### authClient.isValidPassword (user, password)\n",
    "\n",
    "<b>Description:</b>  The *isValidPassword()* method is used to determine whether the given password is valid for the named user.\n",
    "\n",
    "<b>Returns:</b>\n",
    "    - a 'True' or 'False' string depending on password validity"
   ]
  },
  {
   "cell_type": "code",
   "execution_count": null,
   "metadata": {
    "collapsed": false,
    "deletable": true,
    "editable": true
   },
   "outputs": [],
   "source": [
    "# Example 0: A valid anonymous user\n",
    "args = []\n",
    "args.append ( {\"user\" : \"anonymous\",\n",
    "               \"password\" : \"anonymous\"}\n",
    "            )\n",
    "\n",
    "# Example 1:  An invalid user password\n",
    "args.append ( {\"user\" : \"anonymous\",\n",
    "               \"password\" : \"xyzzy\"}\n",
    "            )\n",
    "\n",
    "headers = {}                        # No token needed\n",
    "\n",
    "example = 0\n",
    "HTTP_CALL (\"GET\", AUTH + \"/isValidPassword?\", args[example], headers=headers)"
   ]
  },
  {
   "cell_type": "markdown",
   "metadata": {
    "deletable": true,
    "editable": true
   },
   "source": [
    "### authClient.isUserLoggedIn (user)\n",
    "\n",
    "<b>Description:</b>  The *isUserLoggedIn()* method is used to determine whether the named user is logged-in to the Data Lab system.\n",
    "\n",
    "<b>Returns:</b>\n",
    "    - a 'True' or 'False' string depending on login status"
   ]
  },
  {
   "cell_type": "code",
   "execution_count": 192,
   "metadata": {
    "collapsed": false,
    "deletable": true,
    "editable": true
   },
   "outputs": [
    {
     "name": "stdout",
     "output_type": "stream",
     "text": [
      "http://dldev.datalab.noao.edu/auth/isUserLoggedIn?user=anonymous\n",
      "\n",
      "Server: nginx/1.10.2\r\n",
      "Date: Thu, 18 May 2017 05:16:38 GMT\r\n",
      "Content-Type: text/html; charset=utf-8\r\n",
      "Content-Length: 5\r\n",
      "Connection: close\r\n",
      "Access-Control-Allow-Origin: *\r\n",
      "\n",
      "False\n"
     ]
    }
   ],
   "source": [
    "# Example 0: A valid anonymous user \n",
    "args = []\n",
    "args.append ( {\"user\" : \"anonymous\"} )\n",
    "\n",
    "headers = {}                      # No token needed\n",
    "\n",
    "example = 0\n",
    "HTTP_CALL (\"GET\", AUTH + \"/isUserLoggedIn?\", args[example], headers=headers)"
   ]
  },
  {
   "cell_type": "markdown",
   "metadata": {
    "deletable": true,
    "editable": true
   },
   "source": [
    "### authClient.isTokenLoggedIn (token)\n",
    "\n",
    "<b>Description:</b>  The *isTokenLoggedIn()* method is used to determine whether the given token is logged-in to the Data Lab system.\n",
    "\n",
    "<b>Returns:</b>\n",
    "    - a 'True' or 'False' string depending on login status"
   ]
  },
  {
   "cell_type": "code",
   "execution_count": null,
   "metadata": {
    "collapsed": false,
    "deletable": true,
    "editable": true
   },
   "outputs": [],
   "source": [
    "# Example 0: A valid anonymous user \n",
    "args = []\n",
    "args.append ( {\"token\" : \"anonymous.0.0.anon_access\"} )\n",
    "\n",
    "headers = {}                        # No token needed\n",
    "\n",
    "example = 0\n",
    "HTTP_CALL (\"GET\", AUTH + \"/isTokenLoggedIn?\", args[example], headers=headers)"
   ]
  },
  {
   "cell_type": "markdown",
   "metadata": {
    "deletable": true,
    "editable": true
   },
   "source": [
    "### authClient.logout (token)\n",
    "\n",
    "<b>Description:</b>  The *logout()* method is used to logout of the Data Lab.\n",
    "\n",
    "<b>Returns:</b>\n",
    "    - On success, a \"OK\" response string\n",
    "    \n",
    "<b>NOTE:</b>  An 'INTERNAL SERVER ERROR' is expected for the anonymous token in the example, use a real token for testing."
   ]
  },
  {
   "cell_type": "code",
   "execution_count": null,
   "metadata": {
    "collapsed": false,
    "deletable": true,
    "editable": true
   },
   "outputs": [],
   "source": [
    "# Example 0: A valid anonymous user \n",
    "args = []\n",
    "args.append ( {\"token\" : \"anonymous.0.0.anon_access\"} )\n",
    "\n",
    "headers = {}                        # No token needed\n",
    "\n",
    "example = 0\n",
    "HTTP_CALL (\"GET\", AUTH + \"/logout?\", args[example], headers=headers)"
   ]
  },
  {
   "cell_type": "markdown",
   "metadata": {
    "deletable": true,
    "editable": true
   },
   "source": [
    "### authClient.hasAccess (user, resource)\n",
    "\n",
    "<b>Description:</b>  The *hasAccess()* method is used to determine whether the named user has access to the specified resource.\n",
    "\n",
    "<b>Returns:</b>\n",
    "    - On success, a \"OK\" response string"
   ]
  },
  {
   "cell_type": "code",
   "execution_count": null,
   "metadata": {
    "collapsed": false,
    "deletable": true,
    "editable": true
   },
   "outputs": [],
   "source": [
    "# Example 0: A valid anonymous user \n",
    "args = []\n",
    "args.append ( {\"user\" : \"anonymous\",\n",
    "               \"resource\" : \"vos://\"}\n",
    "            )\n",
    "\n",
    "# Valid auth token required in header\n",
    "headers = { 'X-DL-AuthToken' : 'anonymous.0.0.anon_access'}\n",
    "\n",
    "example = 0\n",
    "HTTP_CALL (\"GET\", AUTH + \"/hasAccess?\", args[example], headers=headers)"
   ]
  },
  {
   "cell_type": "markdown",
   "metadata": {
    "deletable": true,
    "editable": true
   },
   "source": [
    "### authClient.passwordReset (token, username, password)\n",
    "\n",
    "<b>Description:</b>  The *passwordReset()* method is used to change a user's password in the system.  For this to work, the user must be logged in an present a valid token for the current session as well as their username and the new password string.\n",
    "\n",
    "<b>Returns:</b>\n",
    "    - On success, a valid token for the new password\n",
    "    - On failure, the error message\n",
    "    \n",
    "<b>NOTE:</b>  An 'UNAUTHORIZED' is expected for the anonymous token in the example, use a real token for testing."
   ]
  },
  {
   "cell_type": "code",
   "execution_count": null,
   "metadata": {
    "collapsed": false,
    "deletable": true,
    "editable": true
   },
   "outputs": [],
   "source": [
    "# Example 0: A valid anonymous user \n",
    "args = []\n",
    "args.append ( {\"username\" : \"anonymous\",\n",
    "               \"password\" : \"newpass\"} \n",
    "            )\n",
    "\n",
    "# Valid auth token required in header\n",
    "headers = { 'X-DL-AuthToken' : 'anonymous.0.0.anon_access'}\n",
    "\n",
    "example = 0\n",
    "HTTP_CALL (\"GET\", AUTH + \"/passwordReset?\", args[example], headers=headers)"
   ]
  },
  {
   "cell_type": "markdown",
   "metadata": {
    "deletable": true,
    "editable": true
   },
   "source": [
    "***\n",
    "## <u>Query Manager Services</u>\n"
   ]
  },
  {
   "cell_type": "markdown",
   "metadata": {
    "deletable": true,
    "editable": true
   },
   "source": [
    "### queryClient.query (token, adql=None, sql=None, fmt='csv', out=None, async=False)\n",
    "\n",
    "<b>Description:</b>  The *query()* method is used to submit a data query to the Data Lab.  Anonymous queries may be submitted provided the output is not saved to VOSpace or MyDB.\n",
    "\n",
    "<b>Arguments:</b>\n",
    "    - token   A valid user token (or NULL)\n",
    "    - adql    An ADQL query string (submits to TAP service) (optional)\n",
    "    - sql     An SQL query string (submits directly to the database) (optional)\n",
    "    - ofmt     Output format (csv, ascii, votable, or fits) (optional)\n",
    "    - out     Output destination\n",
    "    - async   ASynchronous query if set\n",
    "    \n",
    "Only one of 'adql' or 'sql' may be specified.  If the 'async' flag is set, results will need to be retrieved by a separate call to the *results()* service once the job is complete.\n",
    "\n",
    "<b>Returns:</b>\n",
    "    - An \"OK\" string on success if the output is saved elsewhere\n",
    "    - The results of the query if 'out' is null and 'async' is False\n",
    "    - a jobID string if the 'async' flag is set"
   ]
  },
  {
   "cell_type": "code",
   "execution_count": 223,
   "metadata": {
    "collapsed": false,
    "deletable": true,
    "editable": true
   },
   "outputs": [
    {
     "name": "stdout",
     "output_type": "stream",
     "text": [
      "POST:  http://dldev.datalab.noao.edu/query/query?\n",
      "\tofmt=csv&async=True&adql=select+top+5+%2A+from+usno.a2&out=None\n",
      "\n",
      "RESPONSE\n",
      "Server: nginx/1.10.2\r\n",
      "Date: Thu, 18 May 2017 17:08:22 GMT\r\n",
      "Content-Type: text/html; charset=utf-8\r\n",
      "Content-Length: 16\r\n",
      "Connection: close\r\n",
      "Access-Control-Allow-Origin: *\r\n",
      "\n",
      "nj78tk2uzjvvwi9h\n"
     ]
    }
   ],
   "source": [
    "# Example 0: An ADQL query that returns results directly.\n",
    "# 'out' can be specified as \"vos://<filename>\" to save the\n",
    "# results to VOSpace.  Likewise, a \"mydb://<tablename>\"\n",
    "# value will save to a table in MyDB.\n",
    "args = []\n",
    "args.append ( {\"adql\" : \"select top 10 * from usno.a2\",\n",
    "               \"ofmt\" : \"csv\", \n",
    "               \"out\" : None,\n",
    "               \"async\" : False  \n",
    "              }\n",
    "            )\n",
    "\n",
    "# Example 1: An SQL query that returns results directly.\n",
    "args.append ( {\"sql\" : \"select * from usno.a2 limit 10\",\n",
    "               \"ofmt\" : \"csv\",\n",
    "               \"out\" : None,\n",
    "               \"async\" : False\n",
    "              }\n",
    "            )\n",
    "\n",
    "# Example 2: An ASync ADQL query, this returns a jobID you can pass\n",
    "# to the /status and /results service.\n",
    "args.append ( {\"adql\" : \"select top 5 * from usno.a2\",\n",
    "               \"ofmt\" : \"csv\",\n",
    "               \"out\" : None,\n",
    "               \"async\" : True\n",
    "              }\n",
    "            )\n",
    "\n",
    "# Valid auth token required in header\n",
    "headers = { 'X-DL-AuthToken' : 'anonymous.0.0.anon_access'}\n",
    "\n",
    "example = 2\n",
    "method = \"POST\"                      # Both GET and POST are accepted\n",
    "HTTP_CALL (method, QUERY + \"/query?\", args[example], headers=headers)"
   ]
  },
  {
   "cell_type": "markdown",
   "metadata": {
    "deletable": true,
    "editable": true
   },
   "source": [
    "### queryClient.status (token, jobId)\n",
    "\n",
    "<b>Description:</b>  The *status()* method is used to determine the status of the specified asynchronous job.\n",
    "\n",
    "<b>Returns:</b>\n",
    "    - The job status of the specified 'jobId'.  Results may be retrieved once the status is 'COMPLETED'\n",
    "    \n",
    "<b>NOTE:</b>  A valid async jobId is required, this example won't actually run"
   ]
  },
  {
   "cell_type": "code",
   "execution_count": 233,
   "metadata": {
    "collapsed": false,
    "deletable": true,
    "editable": true,
    "scrolled": true
   },
   "outputs": [
    {
     "name": "stdout",
     "output_type": "stream",
     "text": [
      "Error code: 400: BAD REQUEST\n"
     ]
    }
   ],
   "source": [
    "# Example 0: A valid jobID\n",
    "args = []\n",
    "args.append ( {\"jobid\" : \"nj78tk2uzjvvwi9h\"} )\n",
    " \n",
    "# Valid auth token required in header\n",
    "headers = { 'X-DL-AuthToken' : 'anonymous.0.0.anon_access'}\n",
    "\n",
    "example = 0\n",
    "HTTP_CALL (\"GET\", QUERY + \"/status?\", args[example], headers=headers)"
   ]
  },
  {
   "cell_type": "markdown",
   "metadata": {
    "deletable": true,
    "editable": true
   },
   "source": [
    "### queryClient.results (token, jobId)\n",
    "\n",
    "<b>Description:</b>  The *results()* method is used to retrieve the results of a completed async job.\n",
    "\n",
    "<b>Returns:</b>\n",
    "    - results of the async job"
   ]
  },
  {
   "cell_type": "code",
   "execution_count": 234,
   "metadata": {
    "collapsed": false,
    "deletable": true,
    "editable": true,
    "scrolled": true
   },
   "outputs": [
    {
     "name": "stdout",
     "output_type": "stream",
     "text": [
      "Error code: 400: BAD REQUEST\n"
     ]
    }
   ],
   "source": [
    "# Example 0: A valid jobID\n",
    "args = []\n",
    "args.append ( {\"jobid\" : \"nj78tk2uzjvvwi9h\"} )\n",
    " \n",
    "# Valid auth token required in header\n",
    "headers = { 'X-DL-AuthToken' : 'anonymous.0.0.anon_access'}\n",
    "\n",
    "example = 0\n",
    "HTTP_CALL (\"GET\", QUERY + \"/results?\", args[example], headers=headers)"
   ]
  },
  {
   "cell_type": "markdown",
   "metadata": {
    "deletable": true,
    "editable": true
   },
   "source": [
    "### queryClient.list (token, table=\"\")\n",
    "\n",
    "<b>Description:</b>  The *isTokenLoggedIn()* method is used to list a user's MyDB tables.\n",
    "\n",
    "<b>Returns:</b>\n",
    "    - a list of table names if no table name is specified\n",
    "    - a list of table columns if a specific table is provided"
   ]
  },
  {
   "cell_type": "code",
   "execution_count": 235,
   "metadata": {
    "collapsed": false,
    "deletable": true,
    "editable": true
   },
   "outputs": [
    {
     "name": "stdout",
     "output_type": "stream",
     "text": [
      "Error code: 404: NOT FOUND\n"
     ]
    }
   ],
   "source": [
    "# Example 0: A listing of all tables\n",
    "args = []\n",
    "args.append ( {\"table\" : \"\"} )\n",
    "\n",
    "# Valid auth token required in header\n",
    "headers = { 'X-DL-AuthToken' : 'dldemo.9999.9999.demo_access'}\n",
    "\n",
    "example = 0\n",
    "HTTP_CALL (\"GET\", AUTH + \"/list?\", args[example], headers=headers)"
   ]
  },
  {
   "cell_type": "markdown",
   "metadata": {
    "deletable": true,
    "editable": true
   },
   "source": [
    "### queryClient.drop (token, table, profile=\"\")\n",
    "\n",
    "<b>Description:</b>  The *drop()* method is used to drop a table from the user's MyDB.\n",
    "\n",
    "<b>Returns:</b>\n",
    "    - Status 204 if the table is deleted\n",
    "    - An exception of error"
   ]
  },
  {
   "cell_type": "code",
   "execution_count": null,
   "metadata": {
    "collapsed": false,
    "deletable": true,
    "editable": true
   },
   "outputs": [],
   "source": [
    "# Example 0: A valid anonymous user \n",
    "args = []\n",
    "args.append ( {\"table\" : \"test\",\n",
    "               \"profile\" : \"default\"} \n",
    "            )\n",
    "\n",
    "# Valid auth token required in header\n",
    "headers = { 'X-DL-AuthToken' : 'dldemo.9999.9999.demo_access'}\n",
    "\n",
    "example = 0\n",
    "HTTP_CALL (\"GET\", AUTH + \"/delete?\", args[example], headers=headers)"
   ]
  },
  {
   "cell_type": "markdown",
   "metadata": {
    "deletable": true,
    "editable": true
   },
   "source": [
    "## <u>Storage Manager Services</u>\n",
    "\n",
    "`\n",
    "def get(token, fr, to, verbose=True):\n",
    "def put(token, fr, to, verbose=True):\n",
    "def cp(token, fr, to, verbose=False):\n",
    "def ln(token, fr, target):\n",
    "def ls(token, name, format='csv'):\n",
    "def mkdir(token, name):\n",
    "def mv(token, fr, to, verbose=False):\n",
    "def rm(token, name, verbose=False):\n",
    "def rmdir(token, name):\n",
    "def saveAs(token, data, name):\n",
    "def tag(token, name, tag):\n",
    "`"
   ]
  },
  {
   "cell_type": "code",
   "execution_count": null,
   "metadata": {
    "collapsed": true,
    "deletable": true,
    "editable": true
   },
   "outputs": [],
   "source": []
  },
  {
   "cell_type": "markdown",
   "metadata": {
    "deletable": true,
    "editable": true
   },
   "source": [
    "## <u>Resource Manager Services</u>\n",
    "\n",
    "`\n",
    "def createUser (username, password, email, name):\n",
    "def passwordReset (password):\n",
    "def readUser (keyword):\n",
    "def updateUser (keyword, value):\n",
    "def deleteUser (username, password):\n",
    "def createGroup (groupName):\n",
    "def readGroup (keyword):\n",
    "def updateGroup (keyword, value):\n",
    "def deleteGroup (groupName):\n",
    "def createResource (resource):\n",
    "def readResource (keyword):\n",
    "def updateResource (keyword, value):\n",
    "def deleteResource (resource):\n",
    "`"
   ]
  },
  {
   "cell_type": "markdown",
   "metadata": {
    "deletable": true,
    "editable": true
   },
   "source": [
    "### resClient.createUser (username, password, email, name)\n",
    "\n",
    "<b>Description:</b>  The *createUser()* method is used to create a User in the Data Lab, however it does not activate the user account until a moderator has approved the account.\n",
    "\n",
    "<b>Returns:</b>\n",
    "    - On success, an \"OK\" string\n",
    "    - On failure, an error message\n",
    "    \n",
    "<b>NOTE:</b>  The service URL in this case contains a hard-coded argument."
   ]
  },
  {
   "cell_type": "code",
   "execution_count": 238,
   "metadata": {
    "collapsed": false,
    "deletable": true,
    "editable": true
   },
   "outputs": [
    {
     "name": "stdout",
     "output_type": "stream",
     "text": [
      "Error code: 400: BAD REQUEST\n"
     ]
    }
   ],
   "source": [
    "# Example 0: A test user account\n",
    "args = []\n",
    "args.append ( {\"username\" : \"test00\",\n",
    "               \"password\" : \"testpw\",\n",
    "               \"email\" : \"test@test.com\",\n",
    "               \"name\" : \"Test UserName\"\n",
    "              }\n",
    "            )\n",
    "\n",
    "# Valid auth token required in header\n",
    "headers = {}\n",
    "\n",
    "example = 0\n",
    "HTTP_CALL (\"GET\", RES + \"/create?what=user&\", args[example], headers=headers)"
   ]
  },
  {
   "cell_type": "markdown",
   "metadata": {
    "deletable": true,
    "editable": true
   },
   "source": [
    "### resClient.passwordReset (token, username, password)\n",
    "\n",
    "<b>Description:</b>  The *passwordReset()* method is used to reset a user's account password.\n",
    "\n",
    "<b>Returns:</b>\n",
    "    - On success, an \"OK\" string\n",
    "    - On failure, an error message\n",
    "    \n",
    "<b>NOTE:</b>  Not fully implemented."
   ]
  },
  {
   "cell_type": "code",
   "execution_count": 238,
   "metadata": {
    "collapsed": false,
    "deletable": true,
    "editable": true
   },
   "outputs": [
    {
     "name": "stdout",
     "output_type": "stream",
     "text": [
      "Error code: 400: BAD REQUEST\n"
     ]
    }
   ],
   "source": [
    "# Example 0: A test user account\n",
    "args = []\n",
    "args.append ( {\"username\" : \"test00\",\n",
    "               \"password\" : \"testpw\",\n",
    "               \"email\" : \"test@test.com\",\n",
    "               \"name\" : \"Test UserName\"\n",
    "              }\n",
    "            )\n",
    "\n",
    "# Valid auth token required in header\n",
    "headers = { 'X-DL-AuthToken' : 'dldemo.9999.9999.demo_access'}\n",
    "\n",
    "example = 0\n",
    "HTTP_CALL (\"GET\", RES + \"/passwordReset\", args[example], headers=headers)"
   ]
  },
  {
   "cell_type": "code",
   "execution_count": null,
   "metadata": {
    "collapsed": true,
    "deletable": true,
    "editable": true
   },
   "outputs": [],
   "source": []
  }
 ],
 "metadata": {
  "anaconda-cloud": {},
  "kernelspec": {
   "display_name": "Python 2",
   "language": "python",
   "name": "python2"
  },
  "language_info": {
   "codemirror_mode": {
    "name": "ipython",
    "version": 2
   },
   "file_extension": ".py",
   "mimetype": "text/x-python",
   "name": "python",
   "nbconvert_exporter": "python",
   "pygments_lexer": "ipython2",
   "version": "2.7.13"
  }
 },
 "nbformat": 4,
 "nbformat_minor": 2
}
